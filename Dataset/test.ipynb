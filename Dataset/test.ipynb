{
 "cells": [
  {
   "cell_type": "code",
   "execution_count": 2,
   "metadata": {},
   "outputs": [],
   "source": [
    "import pandas as pd"
   ]
  },
  {
   "cell_type": "code",
   "execution_count": 3,
   "metadata": {},
   "outputs": [],
   "source": [
    "df = pd.read_csv(\"25_cleaned.csv\")"
   ]
  },
  {
   "cell_type": "code",
   "execution_count": 4,
   "metadata": {},
   "outputs": [
    {
     "data": {
      "text/plain": [
       "array(['AIML', 'COMPS A', 'COMPS B', 'EXTC A', 'EXTC B', 'DS'],\n",
       "      dtype=object)"
      ]
     },
     "execution_count": 4,
     "metadata": {},
     "output_type": "execute_result"
    }
   ],
   "source": [
    "df[\"Class\"].unique()"
   ]
  },
  {
   "cell_type": "code",
   "execution_count": 5,
   "metadata": {},
   "outputs": [
    {
     "data": {
      "text/plain": [
       "AIML       17\n",
       "COMPS A    15\n",
       "COMPS B    12\n",
       "EXTC A     11\n",
       "EXTC B      6\n",
       "DS          6\n",
       "Name: Class, dtype: int64"
      ]
     },
     "execution_count": 5,
     "metadata": {},
     "output_type": "execute_result"
    }
   ],
   "source": [
    "df[\"Class\"].value_counts()"
   ]
  },
  {
   "cell_type": "code",
   "execution_count": 6,
   "metadata": {},
   "outputs": [
    {
     "data": {
      "text/plain": [
       "IIT Bombay                                 32\n",
       "IIT Patna                                   9\n",
       "Not doing in 6th Semester                   8\n",
       "Swicthed to Industrial Job                  7\n",
       "CDAC-Dr Leena                               2\n",
       "Newel Technologies with Stipend             2\n",
       "(UPSC/MPSC Aspirant)                        1\n",
       "Not Eligible                                1\n",
       "IIT BHU                                     1\n",
       "CDAC-Prof Kapil Kant                        1\n",
       "Probably Inhouse                            1\n",
       "SPJIMR - Dr Sheila Roy & Dr Harit Joshi     1\n",
       "IIM Sirmaur HP                              1\n",
       "Name: Internship Organization, dtype: int64"
      ]
     },
     "execution_count": 6,
     "metadata": {},
     "output_type": "execute_result"
    }
   ],
   "source": [
    "df[\"Internship Organization\"].value_counts()"
   ]
  },
  {
   "cell_type": "code",
   "execution_count": 7,
   "metadata": {},
   "outputs": [],
   "source": [
    "df[\"IsIIT\"] = df[\"Internship Organization\"].str.contains(\"IIT\", case=False)"
   ]
  },
  {
   "cell_type": "code",
   "execution_count": 8,
   "metadata": {},
   "outputs": [
    {
     "data": {
      "text/html": [
       "<div>\n",
       "<style scoped>\n",
       "    .dataframe tbody tr th:only-of-type {\n",
       "        vertical-align: middle;\n",
       "    }\n",
       "\n",
       "    .dataframe tbody tr th {\n",
       "        vertical-align: top;\n",
       "    }\n",
       "\n",
       "    .dataframe thead th {\n",
       "        text-align: right;\n",
       "    }\n",
       "</style>\n",
       "<table border=\"1\" class=\"dataframe\">\n",
       "  <thead>\n",
       "    <tr style=\"text-align: right;\">\n",
       "      <th></th>\n",
       "      <th>No</th>\n",
       "      <th>Email</th>\n",
       "      <th>Name</th>\n",
       "      <th>UID</th>\n",
       "      <th>Class</th>\n",
       "      <th>Internship Organization</th>\n",
       "      <th>IsIIT</th>\n",
       "    </tr>\n",
       "  </thead>\n",
       "  <tbody>\n",
       "    <tr>\n",
       "      <th>0</th>\n",
       "      <td>1</td>\n",
       "      <td>amey.agarwal@spit.ac.in</td>\n",
       "      <td>Amey Agarwal</td>\n",
       "      <td>2021600003</td>\n",
       "      <td>AIML</td>\n",
       "      <td>CDAC-Dr Leena</td>\n",
       "      <td>False</td>\n",
       "    </tr>\n",
       "    <tr>\n",
       "      <th>1</th>\n",
       "      <td>2</td>\n",
       "      <td>sarvesh.deshpande@spit.ac.in</td>\n",
       "      <td>Sarvesh Deshpande</td>\n",
       "      <td>2021600013</td>\n",
       "      <td>AIML</td>\n",
       "      <td>IIT Bombay</td>\n",
       "      <td>True</td>\n",
       "    </tr>\n",
       "    <tr>\n",
       "      <th>2</th>\n",
       "      <td>3</td>\n",
       "      <td>chaitya.dobariya@spit.ac.in</td>\n",
       "      <td>Chaitya Arun Dobariya</td>\n",
       "      <td>2021600017</td>\n",
       "      <td>AIML</td>\n",
       "      <td>IIT Bombay</td>\n",
       "      <td>True</td>\n",
       "    </tr>\n",
       "    <tr>\n",
       "      <th>3</th>\n",
       "      <td>4</td>\n",
       "      <td>sanika.gadkari@spit.ac.in</td>\n",
       "      <td>Sanika Gadkari</td>\n",
       "      <td>2021600018</td>\n",
       "      <td>AIML</td>\n",
       "      <td>IIT Patna</td>\n",
       "      <td>True</td>\n",
       "    </tr>\n",
       "    <tr>\n",
       "      <th>4</th>\n",
       "      <td>5</td>\n",
       "      <td>kevin.suvarna@spit.ac.in</td>\n",
       "      <td>Kevin Suvarna</td>\n",
       "      <td>2021600039</td>\n",
       "      <td>AIML</td>\n",
       "      <td>Not doing in 6th Semester</td>\n",
       "      <td>False</td>\n",
       "    </tr>\n",
       "  </tbody>\n",
       "</table>\n",
       "</div>"
      ],
      "text/plain": [
       "   No                         Email                   Name         UID Class  \\\n",
       "0   1       amey.agarwal@spit.ac.in           Amey Agarwal  2021600003  AIML   \n",
       "1   2  sarvesh.deshpande@spit.ac.in      Sarvesh Deshpande  2021600013  AIML   \n",
       "2   3   chaitya.dobariya@spit.ac.in  Chaitya Arun Dobariya  2021600017  AIML   \n",
       "3   4     sanika.gadkari@spit.ac.in         Sanika Gadkari  2021600018  AIML   \n",
       "4   5      kevin.suvarna@spit.ac.in          Kevin Suvarna  2021600039  AIML   \n",
       "\n",
       "     Internship Organization  IsIIT  \n",
       "0              CDAC-Dr Leena  False  \n",
       "1                 IIT Bombay   True  \n",
       "2                 IIT Bombay   True  \n",
       "3                  IIT Patna   True  \n",
       "4  Not doing in 6th Semester  False  "
      ]
     },
     "execution_count": 8,
     "metadata": {},
     "output_type": "execute_result"
    }
   ],
   "source": [
    "df.head()"
   ]
  },
  {
   "cell_type": "code",
   "execution_count": 9,
   "metadata": {},
   "outputs": [],
   "source": [
    "df.to_csv(\"25_cleaned.csv\", index=False)"
   ]
  },
  {
   "cell_type": "code",
   "execution_count": null,
   "metadata": {},
   "outputs": [],
   "source": []
  }
 ],
 "metadata": {
  "kernelspec": {
   "display_name": "ml",
   "language": "python",
   "name": "python3"
  },
  "language_info": {
   "codemirror_mode": {
    "name": "ipython",
    "version": 3
   },
   "file_extension": ".py",
   "mimetype": "text/x-python",
   "name": "python",
   "nbconvert_exporter": "python",
   "pygments_lexer": "ipython3",
   "version": "3.10.12"
  }
 },
 "nbformat": 4,
 "nbformat_minor": 2
}
